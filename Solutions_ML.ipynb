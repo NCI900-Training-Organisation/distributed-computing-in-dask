{
 "cells": [
  {
   "cell_type": "code",
   "execution_count": null,
   "id": "c7074e35",
   "metadata": {},
   "outputs": [],
   "source": [
    "import os\n",
    "import pandas as pd\n",
    "import numpy as np\n",
    "import seaborn as sns\n",
    "import matplotlib.pyplot as plt\n",
    "\n",
    "from sklearn.pipeline import Pipeline  # regular scikit-learn pipeline\n",
    "\n",
    "\n",
    "import dask \n",
    "import dask.dataframe as dd\n",
    "from dask_ml.preprocessing import Categorizer, DummyEncoder, StandardScaler\n",
    "from dask_ml.model_selection import train_test_split\n",
    "from dask_ml.linear_model import LogisticRegression, LinearRegression\n",
    "from dask_ml.decomposition import PCA\n",
    "from dask_ml.cluster import KMeans\n",
    "\n",
    "\n",
    "\n",
    "\n"
   ]
  },
  {
   "cell_type": "code",
   "execution_count": null,
   "id": "f31e7214",
   "metadata": {},
   "outputs": [],
   "source": [
    "ddf = dd.read_csv(\"/scratch/vp91/Training-Data/Dask/CalCOFI_bottle.csv\", dtype={\n",
    "       'O2Satq': 'float64',\n",
    "       'O_qual': 'float64',\n",
    "       'PO4q': 'float64',\n",
    "       'S_prec': 'float64',\n",
    "       'T_prec': 'float64',\n",
    "       'C14A1q': 'float64',\n",
    "       'C14A2q': 'float64',\n",
    "       'Chlqua': 'float64',\n",
    "       'DIC Quality Comment': 'object',\n",
    "       'DarkAq': 'float64',\n",
    "       'IncTim': 'object',\n",
    "       'MeanAq': 'float64',\n",
    "       'NH3q': 'float64',\n",
    "       'NO2q': 'float64',\n",
    "       'NO3q': 'float64',\n",
    "       'P_qual': 'float64',\n",
    "       'Phaqua': 'float64',\n",
    "       'SiO3qu': 'float64'})\n",
    "ddf.head()"
   ]
  },
  {
   "cell_type": "code",
   "execution_count": null,
   "id": "102e717b",
   "metadata": {},
   "outputs": [],
   "source": [
    "ddf = ddf[['Depthm', 'Salnty', 'STheta', 'R_PRES', 'T_degC', 'O2ml_L']]\n",
    "ddf.head()"
   ]
  },
  {
   "cell_type": "code",
   "execution_count": null,
   "id": "f0ab63ea",
   "metadata": {},
   "outputs": [],
   "source": [
    "ddf = ddf.dropna()"
   ]
  },
  {
   "cell_type": "code",
   "execution_count": null,
   "id": "dd293b67",
   "metadata": {},
   "outputs": [],
   "source": [
    "pipe = Pipeline([('reduce_dim', PCA()), \n",
    "                 ('normal', StandardScaler()),\n",
    "                 ('cluster', KMeans(n_clusters = 3, random_state = 0, n_init='auto'))\n",
    "                ])"
   ]
  },
  {
   "cell_type": "code",
   "execution_count": null,
   "id": "c48b49ac",
   "metadata": {},
   "outputs": [],
   "source": [
    "pipe"
   ]
  },
  {
   "cell_type": "code",
   "execution_count": null,
   "id": "5dc7d2d8",
   "metadata": {},
   "outputs": [],
   "source": [
    "kmeans = pipe.fit(ddf.to_dask_array(lengths=True))"
   ]
  },
  {
   "cell_type": "code",
   "execution_count": null,
   "id": "1df7f79a",
   "metadata": {},
   "outputs": [],
   "source": [
    "sns.scatterplot(data = ddf, x = 'T_degC', y = 'Salnty', hue = pipe['cluster'].labels_)"
   ]
  },
  {
   "cell_type": "code",
   "execution_count": null,
   "id": "38832350",
   "metadata": {},
   "outputs": [],
   "source": []
  }
 ],
 "metadata": {
  "kernelspec": {
   "display_name": "Python 3 (ipykernel)",
   "language": "python",
   "name": "python3"
  },
  "language_info": {
   "codemirror_mode": {
    "name": "ipython",
    "version": 3
   },
   "file_extension": ".py",
   "mimetype": "text/x-python",
   "name": "python",
   "nbconvert_exporter": "python",
   "pygments_lexer": "ipython3",
   "version": "3.11.0"
  }
 },
 "nbformat": 4,
 "nbformat_minor": 5
}
